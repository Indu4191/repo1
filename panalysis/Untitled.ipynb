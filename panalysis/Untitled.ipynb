{
 "cells": [
  {
   "cell_type": "code",
   "execution_count": 4,
   "metadata": {
    "collapsed": true
   },
   "outputs": [],
   "source": [
    "# import packages\n",
    "import numpy as np\n",
    "import pandas as pd\n",
    "import matplotlib\n",
    "%matplotlib inline\n",
    "import sqlite3\n",
    "from pandas.io import sql"
   ]
  },
  {
   "cell_type": "code",
   "execution_count": 2,
   "metadata": {
    "collapsed": true
   },
   "outputs": [],
   "source": [
    "data=pd.read_csv('./datasets/subscribers_list.csv')"
   ]
  },
  {
   "cell_type": "code",
   "execution_count": 14,
   "metadata": {
    "collapsed": true
   },
   "outputs": [],
   "source": [
    "data['year'] = pd.DatetimeIndex(data['DateAddedToList']).year\n",
    "data['month'] = pd.DatetimeIndex(data['DateAddedToList']).month\n",
    "data['day'] = pd.DatetimeIndex(data['DateAddedToList']).day"
   ]
  },
  {
   "cell_type": "code",
   "execution_count": 23,
   "metadata": {
    "collapsed": false
   },
   "outputs": [],
   "source": [
    "# Establishing Local DB connection\n",
    "db_connection = sqlite3.connect('./panalysis.db.sqlite')\n",
    "\n",
    "# # Reading out DataFrames as SQL Table\n",
    "data.to_sql(name = 'data', con = db_connection, if_exists = 'replace', index = False)"
   ]
  },
  {
   "cell_type": "code",
   "execution_count": 24,
   "metadata": {
    "collapsed": true
   },
   "outputs": [],
   "source": [
    "def Q(query,db=db_connection):\n",
    "    return sql.read_sql(query,db)"
   ]
  },
  {
   "cell_type": "code",
   "execution_count": 25,
   "metadata": {
    "collapsed": false
   },
   "outputs": [
    {
     "data": {
      "text/html": [
       "<div>\n",
       "<table border=\"1\" class=\"dataframe\">\n",
       "  <thead>\n",
       "    <tr style=\"text-align: right;\">\n",
       "      <th></th>\n",
       "      <th>DateAddedToList</th>\n",
       "      <th>SubscriberID</th>\n",
       "      <th>ListID</th>\n",
       "      <th>CurrentStatus</th>\n",
       "      <th>year</th>\n",
       "      <th>month</th>\n",
       "      <th>day</th>\n",
       "    </tr>\n",
       "  </thead>\n",
       "  <tbody>\n",
       "    <tr>\n",
       "      <th>0</th>\n",
       "      <td>10/04/2014 15:44</td>\n",
       "      <td>69bd8f10a8f512f11cc5e15b1fb177a46395c93f6553fc...</td>\n",
       "      <td>Artists in Australia</td>\n",
       "      <td>Unsubscribed</td>\n",
       "      <td>2014</td>\n",
       "      <td>10</td>\n",
       "      <td>4</td>\n",
       "    </tr>\n",
       "    <tr>\n",
       "      <th>1</th>\n",
       "      <td>10/04/2014 9:40</td>\n",
       "      <td>5e8ce7d6a2fed0e786f994a4deb38ca9eb971120a86e4a...</td>\n",
       "      <td>Artists in Australia</td>\n",
       "      <td>Active</td>\n",
       "      <td>2014</td>\n",
       "      <td>10</td>\n",
       "      <td>4</td>\n",
       "    </tr>\n",
       "  </tbody>\n",
       "</table>\n",
       "</div>"
      ],
      "text/plain": [
       "    DateAddedToList                                       SubscriberID  \\\n",
       "0  10/04/2014 15:44  69bd8f10a8f512f11cc5e15b1fb177a46395c93f6553fc...   \n",
       "1   10/04/2014 9:40  5e8ce7d6a2fed0e786f994a4deb38ca9eb971120a86e4a...   \n",
       "\n",
       "                 ListID CurrentStatus  year  month  day  \n",
       "0  Artists in Australia  Unsubscribed  2014     10    4  \n",
       "1  Artists in Australia        Active  2014     10    4  "
      ]
     },
     "execution_count": 25,
     "metadata": {},
     "output_type": "execute_result"
    }
   ],
   "source": [
    "q1='''\n",
    "select * from data\n",
    "limit 2\n",
    "'''\n",
    "Q(q1,db=db_connection)"
   ]
  },
  {
   "cell_type": "code",
   "execution_count": 26,
   "metadata": {
    "collapsed": false
   },
   "outputs": [
    {
     "data": {
      "text/html": [
       "<div>\n",
       "<table border=\"1\" class=\"dataframe\">\n",
       "  <thead>\n",
       "    <tr style=\"text-align: right;\">\n",
       "      <th></th>\n",
       "      <th>count (\"SubscriberID\")</th>\n",
       "      <th>ListID</th>\n",
       "    </tr>\n",
       "  </thead>\n",
       "  <tbody>\n",
       "    <tr>\n",
       "      <th>0</th>\n",
       "      <td>3589</td>\n",
       "      <td>Artists in Australia</td>\n",
       "    </tr>\n",
       "    <tr>\n",
       "      <th>1</th>\n",
       "      <td>2089</td>\n",
       "      <td>Balkan News</td>\n",
       "    </tr>\n",
       "    <tr>\n",
       "      <th>2</th>\n",
       "      <td>1977</td>\n",
       "      <td>Columbian Comedy</td>\n",
       "    </tr>\n",
       "    <tr>\n",
       "      <th>3</th>\n",
       "      <td>15511</td>\n",
       "      <td>Dog Walkers Weekly</td>\n",
       "    </tr>\n",
       "    <tr>\n",
       "      <th>4</th>\n",
       "      <td>11633</td>\n",
       "      <td>Epicurean Delights</td>\n",
       "    </tr>\n",
       "    <tr>\n",
       "      <th>5</th>\n",
       "      <td>1285</td>\n",
       "      <td>Fishing with Friends</td>\n",
       "    </tr>\n",
       "    <tr>\n",
       "      <th>6</th>\n",
       "      <td>7816</td>\n",
       "      <td>Gardening and Greenery</td>\n",
       "    </tr>\n",
       "    <tr>\n",
       "      <th>7</th>\n",
       "      <td>2814</td>\n",
       "      <td>Hobbies for Profit</td>\n",
       "    </tr>\n",
       "    <tr>\n",
       "      <th>8</th>\n",
       "      <td>20617</td>\n",
       "      <td>Iguana Lovers Monthly</td>\n",
       "    </tr>\n",
       "    <tr>\n",
       "      <th>9</th>\n",
       "      <td>131</td>\n",
       "      <td>Jalopeno Recipe of the Week</td>\n",
       "    </tr>\n",
       "    <tr>\n",
       "      <th>10</th>\n",
       "      <td>1498</td>\n",
       "      <td>Kyoto Siteseeing</td>\n",
       "    </tr>\n",
       "    <tr>\n",
       "      <th>11</th>\n",
       "      <td>3255</td>\n",
       "      <td>Llama Keepers</td>\n",
       "    </tr>\n",
       "    <tr>\n",
       "      <th>12</th>\n",
       "      <td>19505</td>\n",
       "      <td>Monkey Madness</td>\n",
       "    </tr>\n",
       "    <tr>\n",
       "      <th>13</th>\n",
       "      <td>7189</td>\n",
       "      <td>Nautical Novels</td>\n",
       "    </tr>\n",
       "    <tr>\n",
       "      <th>14</th>\n",
       "      <td>968</td>\n",
       "      <td>Obscure Fact of the Day</td>\n",
       "    </tr>\n",
       "    <tr>\n",
       "      <th>15</th>\n",
       "      <td>999</td>\n",
       "      <td>Planets and Stars</td>\n",
       "    </tr>\n",
       "    <tr>\n",
       "      <th>16</th>\n",
       "      <td>4556</td>\n",
       "      <td>Quesadilla Recipies</td>\n",
       "    </tr>\n",
       "    <tr>\n",
       "      <th>17</th>\n",
       "      <td>771</td>\n",
       "      <td>Radical Reading</td>\n",
       "    </tr>\n",
       "    <tr>\n",
       "      <th>18</th>\n",
       "      <td>2348</td>\n",
       "      <td>Shopping Bargin of the Day</td>\n",
       "    </tr>\n",
       "    <tr>\n",
       "      <th>19</th>\n",
       "      <td>20470</td>\n",
       "      <td>Train Trips in the Ukraine</td>\n",
       "    </tr>\n",
       "    <tr>\n",
       "      <th>20</th>\n",
       "      <td>20180</td>\n",
       "      <td>Underground Art</td>\n",
       "    </tr>\n",
       "    <tr>\n",
       "      <th>21</th>\n",
       "      <td>858</td>\n",
       "      <td>Very Funky Finds</td>\n",
       "    </tr>\n",
       "    <tr>\n",
       "      <th>22</th>\n",
       "      <td>5089</td>\n",
       "      <td>Xtraordinarly GR8</td>\n",
       "    </tr>\n",
       "    <tr>\n",
       "      <th>23</th>\n",
       "      <td>34007</td>\n",
       "      <td>Your Health Tips</td>\n",
       "    </tr>\n",
       "  </tbody>\n",
       "</table>\n",
       "</div>"
      ],
      "text/plain": [
       "    count (\"SubscriberID\")                       ListID\n",
       "0                     3589         Artists in Australia\n",
       "1                     2089                  Balkan News\n",
       "2                     1977             Columbian Comedy\n",
       "3                    15511           Dog Walkers Weekly\n",
       "4                    11633           Epicurean Delights\n",
       "5                     1285         Fishing with Friends\n",
       "6                     7816       Gardening and Greenery\n",
       "7                     2814           Hobbies for Profit\n",
       "8                    20617        Iguana Lovers Monthly\n",
       "9                      131  Jalopeno Recipe of the Week\n",
       "10                    1498             Kyoto Siteseeing\n",
       "11                    3255                Llama Keepers\n",
       "12                   19505               Monkey Madness\n",
       "13                    7189              Nautical Novels\n",
       "14                     968      Obscure Fact of the Day\n",
       "15                     999            Planets and Stars\n",
       "16                    4556          Quesadilla Recipies\n",
       "17                     771              Radical Reading\n",
       "18                    2348   Shopping Bargin of the Day\n",
       "19                   20470   Train Trips in the Ukraine\n",
       "20                   20180              Underground Art\n",
       "21                     858             Very Funky Finds\n",
       "22                    5089            Xtraordinarly GR8\n",
       "23                   34007             Your Health Tips"
      ]
     },
     "execution_count": 26,
     "metadata": {},
     "output_type": "execute_result"
    }
   ],
   "source": [
    "q2='''\n",
    "select count (\"SubscriberID\"),\"ListID\"\n",
    "from data\n",
    "group by \"ListID\"\n",
    "'''\n",
    "Q(q2,db=db_connection)"
   ]
  },
  {
   "cell_type": "code",
   "execution_count": 67,
   "metadata": {
    "collapsed": false
   },
   "outputs": [
    {
     "data": {
      "text/html": [
       "<div>\n",
       "<table border=\"1\" class=\"dataframe\">\n",
       "  <thead>\n",
       "    <tr style=\"text-align: right;\">\n",
       "      <th></th>\n",
       "      <th>year</th>\n",
       "      <th>CurrentStatus</th>\n",
       "      <th>ListID</th>\n",
       "      <th>SubscriberID</th>\n",
       "    </tr>\n",
       "  </thead>\n",
       "  <tbody>\n",
       "  </tbody>\n",
       "</table>\n",
       "</div>"
      ],
      "text/plain": [
       "Empty DataFrame\n",
       "Columns: [year, CurrentStatus, ListID, SubscriberID]\n",
       "Index: []"
      ]
     },
     "execution_count": 67,
     "metadata": {},
     "output_type": "execute_result"
    }
   ],
   "source": [
    "q3='''\n",
    "select \"year\",\"CurrentStatus\",\"ListID\",\"SubscriberID\"\n",
    "from data\n",
    "where\n",
    "(\"CurrentStatus\" = \"Active\" and year = '2015') and\n",
    " (\"CurrentStatus\" != \"Active\" and year != '2015')\n",
    "order by \"SubscriberID\"\n",
    "'''\n",
    "Q(q3,db=db_connection)"
   ]
  },
  {
   "cell_type": "code",
   "execution_count": null,
   "metadata": {
    "collapsed": true
   },
   "outputs": [],
   "source": []
  }
 ],
 "metadata": {
  "kernelspec": {
   "display_name": "Python 2",
   "language": "python",
   "name": "python2"
  },
  "language_info": {
   "codemirror_mode": {
    "name": "ipython",
    "version": 2
   },
   "file_extension": ".py",
   "mimetype": "text/x-python",
   "name": "python",
   "nbconvert_exporter": "python",
   "pygments_lexer": "ipython2",
   "version": "2.7.13"
  }
 },
 "nbformat": 4,
 "nbformat_minor": 2
}
